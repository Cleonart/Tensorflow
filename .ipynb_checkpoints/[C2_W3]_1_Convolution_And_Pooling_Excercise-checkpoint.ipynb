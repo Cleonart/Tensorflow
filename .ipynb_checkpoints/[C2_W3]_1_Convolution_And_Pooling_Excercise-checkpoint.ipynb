{
 "cells": [
  {
   "cell_type": "markdown",
   "metadata": {
    "id": "mDRf52C4mKi2"
   },
   "source": [
    "# [C2 W3] 1. Convolution And Pooling Excercise"
   ]
  },
  {
   "cell_type": "markdown",
   "metadata": {
    "id": "qDJ7-HnVl2Xx"
   },
   "source": [
    "###1. Convolution / Konvolusi\n",
    "Proses \"memasking\" sebuah citra terhadap sebuah kernel atau filter sehingga menghasilkan citra yang baru\n",
    "\n",
    "![](https://drive.google.com/uc?export=view&id=1-2OEqf8ngibHTd-Wi_3XWF6eqhUJD2fw)\n",
    "\n",
    "![](https://drive.google.com/uc?export=view&id=1LfFKH41BIkkNT9mR1JD9A1-YkGTA1CAX)\n",
    "\n",
    "###2. Pooling\n",
    "Proses untuk mengompresi gambar dengan cara hanya mengambil nilai-nilai tertentu dari sebuah matrix pixel, contohnya hanya mengambil nilai tertinggi\n",
    "\n",
    "![](https://drive.google.com/uc?export=view&id=1_2RMWET02t-wcqyCXTiSoKX35j36DiLK)\n",
    "\n"
   ]
  },
  {
   "cell_type": "code",
   "execution_count": 1,
   "metadata": {
    "colab": {
     "base_uri": "https://localhost:8080/"
    },
    "id": "1K4T7qLfeL2x",
    "outputId": "6d3011be-c328-4413-b5c8-d3e5d76d17d4"
   },
   "outputs": [
    {
     "name": "stdout",
     "output_type": "stream",
     "text": [
      "Downloading data from https://storage.googleapis.com/tensorflow/tf-keras-datasets/mnist.npz\n",
      "11493376/11490434 [==============================] - 5s 0us/step\n",
      "Epoch 1/5\n",
      "1875/1875 [==============================] - 7s 2ms/step - loss: 0.4334 - accuracy: 0.8773\n",
      "Epoch 2/5\n",
      "1875/1875 [==============================] - 5s 3ms/step - loss: 0.1238 - accuracy: 0.9640\n",
      "Epoch 3/5\n",
      "1875/1875 [==============================] - 4s 2ms/step - loss: 0.0793 - accuracy: 0.9761\n",
      "Epoch 4/5\n",
      "1875/1875 [==============================] - 4s 2ms/step - loss: 0.0568 - accuracy: 0.9826\n",
      "Epoch 5/5\n",
      "1875/1875 [==============================] - 4s 2ms/step - loss: 0.0420 - accuracy: 0.9872\n",
      "Model: \"sequential\"\n",
      "_________________________________________________________________\n",
      "Layer (type)                 Output Shape              Param #   \n",
      "=================================================================\n",
      "flatten (Flatten)            (32, 784)                 0         \n",
      "_________________________________________________________________\n",
      "dense (Dense)                (32, 128)                 100480    \n",
      "_________________________________________________________________\n",
      "dense_1 (Dense)              (32, 10)                  1290      \n",
      "=================================================================\n",
      "Total params: 101,770\n",
      "Trainable params: 101,770\n",
      "Non-trainable params: 0\n",
      "_________________________________________________________________\n",
      "\n",
      "\n",
      "Melakukan Evaluasi Model dengan menggunakan Model.....\n",
      "313/313 [==============================] - 1s 2ms/step - loss: 0.0835 - accuracy: 0.9739\n"
     ]
    }
   ],
   "source": [
    "# Control Code\n",
    "# Coding Kontrol untuk melihat perbedaan yang terjadi setelah menggunakan\n",
    "# Convolutional dan saat tidak menggunakannnya\n",
    "\n",
    "import tensorflow as tf\n",
    "mnist = tf.keras.datasets.mnist\n",
    "\n",
    "(training_images, training_labels), (test_images, test_labels) = mnist.load_data()\n",
    "training_images = training_images / 255.0\n",
    "test_images     = test_images / 255.0\n",
    "\n",
    "ai_model = tf.keras.models.Sequential([\n",
    "    tf.keras.layers.Flatten(),\n",
    "    tf.keras.layers.Dense(128, activation=\"relu\"),\n",
    "    tf.keras.layers.Dense(10, activation=\"softmax\")                        \n",
    "])\n",
    "\n",
    "# Compile the model with training data\n",
    "ai_model.compile(optimizer=\"adam\", loss=\"sparse_categorical_crossentropy\", metrics=['accuracy'])\n",
    "ai_model.fit(training_images, training_labels, epochs=5)\n",
    "ai_model.summary()\n",
    "\n",
    "# Test the model with test data\n",
    "print(\"\\n\\nMelakukan Evaluasi Model dengan menggunakan Model.....\")\n",
    "test_loss = ai_model.evaluate(test_images, test_labels)"
   ]
  },
  {
   "cell_type": "code",
   "execution_count": 2,
   "metadata": {
    "id": "vIbYLHCNkH0r"
   },
   "outputs": [],
   "source": [
    "import tensorflow as tf"
   ]
  },
  {
   "cell_type": "code",
   "execution_count": 3,
   "metadata": {
    "colab": {
     "base_uri": "https://localhost:8080/"
    },
    "id": "iEJf64VBj9gT",
    "outputId": "90a07721-acaa-4b5b-b039-984b2aef2741"
   },
   "outputs": [
    {
     "name": "stdout",
     "output_type": "stream",
     "text": [
      "Model: \"sequential_1\"\n",
      "_________________________________________________________________\n",
      "Layer (type)                 Output Shape              Param #   \n",
      "=================================================================\n",
      "conv2d (Conv2D)              (None, 26, 26, 64)        640       \n",
      "_________________________________________________________________\n",
      "max_pooling2d (MaxPooling2D) (None, 13, 13, 64)        0         \n",
      "_________________________________________________________________\n",
      "conv2d_1 (Conv2D)            (None, 11, 11, 64)        36928     \n",
      "_________________________________________________________________\n",
      "max_pooling2d_1 (MaxPooling2 (None, 5, 5, 64)          0         \n",
      "_________________________________________________________________\n",
      "flatten_1 (Flatten)          (None, 1600)              0         \n",
      "_________________________________________________________________\n",
      "dense_2 (Dense)              (None, 128)               204928    \n",
      "_________________________________________________________________\n",
      "dense_3 (Dense)              (None, 10)                1290      \n",
      "=================================================================\n",
      "Total params: 243,786\n",
      "Trainable params: 243,786\n",
      "Non-trainable params: 0\n",
      "_________________________________________________________________\n"
     ]
    }
   ],
   "source": [
    "# Load MNIST data\n",
    "mnist = tf.keras.datasets.mnist\n",
    "(training_images, training_labels),(test_images, test_labels) = mnist.load_data()\n",
    "\n",
    "training_images = training_images / 255.0\n",
    "test_images     = test_images / 255.0\n",
    "\n",
    "# Make TF Model\n",
    "model = tf.keras.models.Sequential([\n",
    "  # Do Convolutions and Pooling\n",
    "  tf.keras.layers.Conv2D(64, (3,3), activation=\"relu\", input_shape=(28,28,1)),\n",
    "  \n",
    "  ## Input Shape = (28,28,1)\n",
    "  ## Input Shape  = (Ukuran Matrix X, Ukuran Matrix Y, Kedalaman Warna)\n",
    "  ## Hanya menggunakan 1 karena hanya warna grayscale\n",
    "\n",
    "  tf.keras.layers.MaxPooling2D(2,2),\n",
    "  tf.keras.layers.Conv2D(64, (3,3), activation=\"relu\"),\n",
    "  tf.keras.layers.MaxPooling2D(2,2),\n",
    "\n",
    "  # Make Keras Layers\n",
    "  tf.keras.layers.Flatten(),\n",
    "  tf.keras.layers.Dense(128, activation='relu'),\n",
    "  tf.keras.layers.Dense(10, activation='softmax')\n",
    "])\n",
    "\n",
    "# Display summary of the model\n",
    "model.summary()"
   ]
  },
  {
   "cell_type": "markdown",
   "metadata": {
    "id": "VzJbxkpJageq"
   },
   "source": [
    "_________________________________________________________________\n",
    "Layer (type)                 Output Shape              Param\n",
    "=================================================================\n",
    "conv2d_6 (Conv2D)            (None, 26, 26, 64)        640       \n",
    "_________________________________________________________________\n",
    "max_pooling2d_6 (MaxPooling2 (None, 13, 13, 64)        0         \n",
    "_________________________________________________________________\n",
    "conv2d_7 (Conv2D)            (None, 11, 11, 64)        36928     \n",
    "_________________________________________________________________\n",
    "max_pooling2d_7 (MaxPooling2 (None, 5, 5, 64)          0         \n",
    "_________________________________________________________________\n",
    "flatten_3 (Flatten)          (None, 1600)              0         \n",
    "_________________________________________________________________\n",
    "dense_6 (Dense)              (None, 128)               204928    \n",
    "_________________________________________________________________\n",
    "dense_7 (Dense)              (None, 10)                1290      \n",
    "================================================================="
   ]
  },
  {
   "cell_type": "code",
   "execution_count": null,
   "metadata": {
    "colab": {
     "base_uri": "https://localhost:8080/"
    },
    "id": "xoJ424S4aGx2",
    "outputId": "3548c425-f73a-493c-d561-5cd855374908"
   },
   "outputs": [
    {
     "name": "stdout",
     "output_type": "stream",
     "text": [
      "Downloading data from https://storage.googleapis.com/tensorflow/tf-keras-datasets/train-labels-idx1-ubyte.gz\n",
      "32768/29515 [=================================] - 0s 2us/step\n",
      "Downloading data from https://storage.googleapis.com/tensorflow/tf-keras-datasets/train-images-idx3-ubyte.gz\n",
      "26427392/26421880 [==============================] - 15s 1us/step\n",
      "Downloading data from https://storage.googleapis.com/tensorflow/tf-keras-datasets/t10k-labels-idx1-ubyte.gz\n",
      "8192/5148 [===============================================] - 0s 0us/step\n",
      "Downloading data from https://storage.googleapis.com/tensorflow/tf-keras-datasets/t10k-images-idx3-ubyte.gz\n",
      "4423680/4422102 [==============================] - 3s 1us/step\n",
      "Model: \"sequential_2\"\n",
      "_________________________________________________________________\n",
      "Layer (type)                 Output Shape              Param #   \n",
      "=================================================================\n",
      "conv2d_2 (Conv2D)            (None, 26, 26, 64)        640       \n",
      "_________________________________________________________________\n",
      "max_pooling2d_2 (MaxPooling2 (None, 13, 13, 64)        0         \n",
      "_________________________________________________________________\n",
      "conv2d_3 (Conv2D)            (None, 11, 11, 64)        36928     \n",
      "_________________________________________________________________\n",
      "max_pooling2d_3 (MaxPooling2 (None, 5, 5, 64)          0         \n",
      "_________________________________________________________________\n",
      "flatten_2 (Flatten)          (None, 1600)              0         \n",
      "_________________________________________________________________\n",
      "dense_4 (Dense)              (None, 128)               204928    \n",
      "_________________________________________________________________\n",
      "dense_5 (Dense)              (None, 10)                1290      \n",
      "=================================================================\n",
      "Total params: 243,786\n",
      "Trainable params: 243,786\n",
      "Non-trainable params: 0\n",
      "_________________________________________________________________\n",
      "Epoch 1/8\n",
      "1451/1875 [======================>.......] - ETA: 13s - loss: 0.6628 - accuracy: 0.7587"
     ]
    }
   ],
   "source": [
    "### Test dengan menggunakan Convolution\n",
    "import tensorflow as tf\n",
    "\n",
    "mnist = tf.keras.datasets.fashion_mnist\n",
    "(training_images, training_labels), (test_images, test_labels) = mnist.load_data()\n",
    "training_images = training_images.reshape(60000, 28,28, 1)\n",
    "training_images = training_images / 255.0\n",
    "test_images     = test_images.reshape(10000, 28, 28, 1)\n",
    "test_images     = test_images / 255.0\n",
    "\n",
    "## Make the model\n",
    "conv_model = tf.keras.models.Sequential([\n",
    "  tf.keras.layers.Conv2D(64, (3,3), activation='relu', input_shape=(28, 28, 1)),\n",
    "  tf.keras.layers.MaxPooling2D(2, 2),\n",
    "  tf.keras.layers.Conv2D(64, (3,3), activation='relu'),\n",
    "  tf.keras.layers.MaxPooling2D(2,2),\n",
    "  tf.keras.layers.Flatten(),\n",
    "  tf.keras.layers.Dense(128, activation='relu'),\n",
    "  tf.keras.layers.Dense(10, activation='softmax')\n",
    "])\n",
    "\n",
    "## Compile the models\n",
    "conv_model.compile(optimizer=\"adam\", loss=\"sparse_categorical_crossentropy\", metrics=['accuracy'])\n",
    "conv_model.summary()\n",
    "conv_model.fit(training_images, training_labels, epochs=8)\n",
    "conv_model.evaluate(test_images, test_labels)"
   ]
  },
  {
   "cell_type": "code",
   "execution_count": null,
   "metadata": {
    "id": "WCxhXQqaqSwf"
   },
   "outputs": [],
   "source": [
    "# Convolutional Network\n",
    "# ACC up to 0.998\n",
    "def train_mnist_conv():\n",
    "    mnist = tf.keras.datasets.mnist\n",
    "    (training_images, training_labels), (test_images, test_labels) = mnist.load_data(path=path)\n",
    "    # YOUR CODE STARTS HERE\n",
    "    training_images = training_images.reshape(60000,28,28,1)\n",
    "    training_images = training_images / 255.0\n",
    "    test_images     = test_images.reshape(10000,28,28,1)\n",
    "    test_images     = test_images / 255.0\n",
    "    # YOUR CODE ENDS HERE\n",
    "\n",
    "    model = tf.keras.models.Sequential([\n",
    "            # YOUR CODE STARTS HERE\n",
    "            tf.keras.layers.Conv2D(16, (3,3), input_shape=(28,28,1),activation=\"relu\"),\n",
    "            tf.keras.layers.MaxPooling2D(2,2),\n",
    "            #tf.keras.layers.Conv2D(16, (3,3), activation=\"relu\"),\n",
    "            #tf.keras.layers.MaxPooling2D(2,2),\n",
    "            tf.keras.layers.Flatten(),\n",
    "            tf.keras.layers.Dense(128, activation=\"relu\"),\n",
    "            tf.keras.layers.Dense(10, activation=\"softmax\")\n",
    "            # YOUR CODE ENDS HERE\n",
    "    ])\n",
    "\n",
    "    model.compile(optimizer='adam', loss='sparse_categorical_crossentropy', metrics=['accuracy'])\n",
    "    # model fitting\n",
    "    history = model.fit(\n",
    "        # YOUR CODE STARTS HERE\n",
    "        training_images,\n",
    "        training_labels,\n",
    "        epochs=12\n",
    "        # YOUR CODE ENDS HERE\n",
    "    )\n",
    "    # model fitting\n",
    "    return history.epoch, history.history['acc'][-1]\n",
    "\n"
   ]
  },
  {
   "cell_type": "code",
   "execution_count": null,
   "metadata": {},
   "outputs": [],
   "source": []
  }
 ],
 "metadata": {
  "colab": {
   "name": "[C2 W3] 1. Convolution And Pooling Excercise",
   "provenance": [],
   "toc_visible": true
  },
  "kernelspec": {
   "display_name": "Python 3",
   "language": "python",
   "name": "python3"
  },
  "language_info": {
   "codemirror_mode": {
    "name": "ipython",
    "version": 3
   },
   "file_extension": ".py",
   "mimetype": "text/x-python",
   "name": "python",
   "nbconvert_exporter": "python",
   "pygments_lexer": "ipython3",
   "version": "3.8.5"
  }
 },
 "nbformat": 4,
 "nbformat_minor": 1
}
